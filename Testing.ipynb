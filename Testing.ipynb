{
 "cells": [
  {
   "cell_type": "code",
   "execution_count": 12,
   "metadata": {
    "collapsed": true
   },
   "outputs": [],
   "source": [
    "import numpy as np"
   ]
  },
  {
   "cell_type": "code",
   "execution_count": 13,
   "metadata": {
    "collapsed": true
   },
   "outputs": [],
   "source": [
    "training_data=np.load('D:\\data\\data.npy')"
   ]
  },
  {
   "cell_type": "markdown",
   "metadata": {},
   "source": [
    "# Classification MLP"
   ]
  },
  {
   "cell_type": "code",
   "execution_count": null,
   "metadata": {},
   "outputs": [],
   "source": [
    "from mlp import classification_mlp"
   ]
  },
  {
   "cell_type": "code",
   "execution_count": null,
   "metadata": {
    "collapsed": true
   },
   "outputs": [],
   "source": [
    "from genetic_algorithms import mutate_top"
   ]
  },
  {
   "cell_type": "code",
   "execution_count": null,
   "metadata": {
    "collapsed": true
   },
   "outputs": [],
   "source": [
    "cmlp=classification_mlp()"
   ]
  },
  {
   "cell_type": "code",
   "execution_count": null,
   "metadata": {
    "collapsed": true
   },
   "outputs": [],
   "source": [
    "ga=mutate_top(cmlp,attributes=['hidden_lvls'])"
   ]
  },
  {
   "cell_type": "code",
   "execution_count": null,
   "metadata": {
    "collapsed": true
   },
   "outputs": [],
   "source": [
    "Original = {'attributes': {'n_inputs': 784, \n",
    "'hidden_lvls': {'value': [{'value': 128, 'scale': 32.0},{'value':128,'scale':32.0}],'scale':0}, #setting scale=0 keeps same number of hidden levels\n",
    "'n_classes':10 }}"
   ]
  },
  {
   "cell_type": "code",
   "execution_count": null,
   "metadata": {},
   "outputs": [],
   "source": [
    "from tensorflow.examples.tutorials.mnist import input_data\n",
    "mnist = input_data.read_data_sets(\"/tmp/data/\", one_hot=True)"
   ]
  },
  {
   "cell_type": "code",
   "execution_count": null,
   "metadata": {
    "collapsed": true
   },
   "outputs": [],
   "source": [
    "train_params={\n",
    "    'training_epochs': 1,\n",
    "    'batch_size': 200,\n",
    "    'learning_rate':.001,\n",
    "    'data': training_data,\n",
    "    'test_x':mnist.test.images,\n",
    "    'test_y':mnist.test.labels\n",
    "}"
   ]
  },
  {
   "cell_type": "code",
   "execution_count": null,
   "metadata": {
    "collapsed": true
   },
   "outputs": [],
   "source": [
    "ga.pass_params(kwargs=train_params)"
   ]
  },
  {
   "cell_type": "code",
   "execution_count": null,
   "metadata": {},
   "outputs": [],
   "source": [
    "results=ga.evolve(Original)"
   ]
  },
  {
   "cell_type": "code",
   "execution_count": null,
   "metadata": {},
   "outputs": [],
   "source": [
    "results[8]"
   ]
  },
  {
   "cell_type": "markdown",
   "metadata": {},
   "source": [
    "# Classification CNN"
   ]
  },
  {
   "cell_type": "code",
   "execution_count": 14,
   "metadata": {
    "scrolled": true
   },
   "outputs": [],
   "source": [
    "from cnn import classification_cnn"
   ]
  },
  {
   "cell_type": "code",
   "execution_count": 15,
   "metadata": {
    "collapsed": true
   },
   "outputs": [],
   "source": [
    "from genetic_algorithms import mutate_top"
   ]
  },
  {
   "cell_type": "code",
   "execution_count": 16,
   "metadata": {
    "collapsed": true
   },
   "outputs": [],
   "source": [
    "cnn=classification_cnn()"
   ]
  },
  {
   "cell_type": "code",
   "execution_count": 17,
   "metadata": {},
   "outputs": [],
   "source": [
    "ga=mutate_top(cnn,attributes=['fc_lvls'])"
   ]
  },
  {
   "cell_type": "code",
   "execution_count": 18,
   "metadata": {},
   "outputs": [],
   "source": [
    "Original = {'attributes': {'n_inputs': 784, \n",
    "'conv_lvls': {'value': [{'value': [5,32], 'scale': [1.0,8.0]},\n",
    "                        {'value':[5,64],'scale':[1.0,8.0]}],\n",
    "              'scale':0}, #setting scale=0 keeps same number of hidden levels\n",
    "'pool_lvls':{'value':[{'value':2,'scale':.3},{'value':2,'scale':.3}]},\n",
    "'fc_lvls':{'value':[{'value':1024,'scale':64}],\n",
    "           'scale':0.0},\n",
    "'n_classes':10 ,\n",
    "'dropout':.8}}"
   ]
  },
  {
   "cell_type": "code",
   "execution_count": 19,
   "metadata": {},
   "outputs": [
    {
     "name": "stdout",
     "output_type": "stream",
     "text": [
      "Extracting /tmp/data/train-images-idx3-ubyte.gz\n",
      "Extracting /tmp/data/train-labels-idx1-ubyte.gz\n",
      "Extracting /tmp/data/t10k-images-idx3-ubyte.gz\n",
      "Extracting /tmp/data/t10k-labels-idx1-ubyte.gz\n"
     ]
    }
   ],
   "source": [
    "from tensorflow.examples.tutorials.mnist import input_data\n",
    "mnist = input_data.read_data_sets(\"/tmp/data/\", one_hot=True)"
   ]
  },
  {
   "cell_type": "code",
   "execution_count": 20,
   "metadata": {
    "collapsed": true
   },
   "outputs": [],
   "source": [
    "train_params={\n",
    "    'training_epochs': 10,\n",
    "    'batch_size': 200,\n",
    "    'learning_rate':.001,\n",
    "    'data': training_data,\n",
    "    'test_x':mnist.test.images,\n",
    "    'test_y':mnist.test.labels\n",
    "}"
   ]
  },
  {
   "cell_type": "code",
   "execution_count": 21,
   "metadata": {
    "collapsed": true
   },
   "outputs": [],
   "source": [
    "ga.pass_params(kwargs=train_params)"
   ]
  },
  {
   "cell_type": "code",
   "execution_count": 22,
   "metadata": {},
   "outputs": [
    {
     "name": "stdout",
     "output_type": "stream",
     "text": [
      "3136 1024\n",
      "WARNING:tensorflow:From D:\\repos\\neural_nets\\cnn.py:86: initialize_all_variables (from tensorflow.python.ops.variables) is deprecated and will be removed after 2017-03-02.\n",
      "Instructions for updating:\n",
      "Use `tf.global_variables_initializer` instead.\n",
      "Epoch: 0010 cost= 313.476642663\n",
      "3136 896\n",
      "WARNING:tensorflow:From D:\\repos\\neural_nets\\cnn.py:86: initialize_all_variables (from tensorflow.python.ops.variables) is deprecated and will be removed after 2017-03-02.\n",
      "Instructions for updating:\n",
      "Use `tf.global_variables_initializer` instead.\n",
      "Epoch: 0010 cost= 300.272839161\n",
      "3136 640\n",
      "WARNING:tensorflow:From D:\\repos\\neural_nets\\cnn.py:86: initialize_all_variables (from tensorflow.python.ops.variables) is deprecated and will be removed after 2017-03-02.\n",
      "Instructions for updating:\n",
      "Use `tf.global_variables_initializer` instead.\n",
      "Epoch: 0010 cost= 324.528591497\n",
      "3136 448\n",
      "WARNING:tensorflow:From D:\\repos\\neural_nets\\cnn.py:86: initialize_all_variables (from tensorflow.python.ops.variables) is deprecated and will be removed after 2017-03-02.\n",
      "Instructions for updating:\n",
      "Use `tf.global_variables_initializer` instead.\n",
      "Epoch: 0010 cost= 187.529468505\n",
      "3136 576\n",
      "WARNING:tensorflow:From D:\\repos\\neural_nets\\cnn.py:86: initialize_all_variables (from tensorflow.python.ops.variables) is deprecated and will be removed after 2017-03-02.\n",
      "Instructions for updating:\n",
      "Use `tf.global_variables_initializer` instead.\n",
      "Epoch: 0010 cost= 203.397619400\n",
      "3136 896\n",
      "WARNING:tensorflow:From D:\\repos\\neural_nets\\cnn.py:86: initialize_all_variables (from tensorflow.python.ops.variables) is deprecated and will be removed after 2017-03-02.\n",
      "Instructions for updating:\n",
      "Use `tf.global_variables_initializer` instead.\n",
      "Epoch: 0010 cost= 308.128944497\n",
      "3136 768\n",
      "WARNING:tensorflow:From D:\\repos\\neural_nets\\cnn.py:86: initialize_all_variables (from tensorflow.python.ops.variables) is deprecated and will be removed after 2017-03-02.\n",
      "Instructions for updating:\n",
      "Use `tf.global_variables_initializer` instead.\n",
      "Epoch: 0010 cost= 289.390954944\n",
      "3136 768\n",
      "WARNING:tensorflow:From D:\\repos\\neural_nets\\cnn.py:86: initialize_all_variables (from tensorflow.python.ops.variables) is deprecated and will be removed after 2017-03-02.\n",
      "Instructions for updating:\n",
      "Use `tf.global_variables_initializer` instead.\n",
      "Epoch: 0010 cost= 315.161179007\n",
      "3136 768\n",
      "WARNING:tensorflow:From D:\\repos\\neural_nets\\cnn.py:86: initialize_all_variables (from tensorflow.python.ops.variables) is deprecated and will be removed after 2017-03-02.\n",
      "Instructions for updating:\n",
      "Use `tf.global_variables_initializer` instead.\n",
      "Epoch: 0010 cost= 275.511961491\n",
      "3136 576\n",
      "WARNING:tensorflow:From D:\\repos\\neural_nets\\cnn.py:86: initialize_all_variables (from tensorflow.python.ops.variables) is deprecated and will be removed after 2017-03-02.\n",
      "Instructions for updating:\n",
      "Use `tf.global_variables_initializer` instead.\n",
      "Epoch: 0010 cost= 261.230978936\n",
      "3136 768\n",
      "WARNING:tensorflow:From D:\\repos\\neural_nets\\cnn.py:86: initialize_all_variables (from tensorflow.python.ops.variables) is deprecated and will be removed after 2017-03-02.\n",
      "Instructions for updating:\n",
      "Use `tf.global_variables_initializer` instead.\n",
      "Epoch: 0010 cost= 286.332681155\n",
      "3136 1024\n",
      "WARNING:tensorflow:From D:\\repos\\neural_nets\\cnn.py:86: initialize_all_variables (from tensorflow.python.ops.variables) is deprecated and will be removed after 2017-03-02.\n",
      "Instructions for updating:\n",
      "Use `tf.global_variables_initializer` instead.\n",
      "Epoch: 0010 cost= 238.525286959\n",
      "3136 832\n",
      "WARNING:tensorflow:From D:\\repos\\neural_nets\\cnn.py:86: initialize_all_variables (from tensorflow.python.ops.variables) is deprecated and will be removed after 2017-03-02.\n",
      "Instructions for updating:\n",
      "Use `tf.global_variables_initializer` instead.\n",
      "Epoch: 0010 cost= 264.638207867\n",
      "3136 1088\n",
      "WARNING:tensorflow:From D:\\repos\\neural_nets\\cnn.py:86: initialize_all_variables (from tensorflow.python.ops.variables) is deprecated and will be removed after 2017-03-02.\n",
      "Instructions for updating:\n",
      "Use `tf.global_variables_initializer` instead.\n",
      "Epoch: 0010 cost= 272.835026550\n",
      "3136 960\n",
      "WARNING:tensorflow:From D:\\repos\\neural_nets\\cnn.py:86: initialize_all_variables (from tensorflow.python.ops.variables) is deprecated and will be removed after 2017-03-02.\n",
      "Instructions for updating:\n",
      "Use `tf.global_variables_initializer` instead.\n",
      "Epoch: 0010 cost= 236.509837237\n",
      "3136 1024\n",
      "WARNING:tensorflow:From D:\\repos\\neural_nets\\cnn.py:86: initialize_all_variables (from tensorflow.python.ops.variables) is deprecated and will be removed after 2017-03-02.\n",
      "Instructions for updating:\n",
      "Use `tf.global_variables_initializer` instead.\n",
      "Epoch: 0010 cost= 247.140253478\n",
      "3136 1024\n",
      "WARNING:tensorflow:From D:\\repos\\neural_nets\\cnn.py:86: initialize_all_variables (from tensorflow.python.ops.variables) is deprecated and will be removed after 2017-03-02.\n",
      "Instructions for updating:\n",
      "Use `tf.global_variables_initializer` instead.\n",
      "Epoch: 0010 cost= 225.880812933\n",
      "3136 1280\n",
      "WARNING:tensorflow:From D:\\repos\\neural_nets\\cnn.py:86: initialize_all_variables (from tensorflow.python.ops.variables) is deprecated and will be removed after 2017-03-02.\n",
      "Instructions for updating:\n",
      "Use `tf.global_variables_initializer` instead.\n",
      "Epoch: 0010 cost= 225.066038604\n",
      "3136 1280\n",
      "WARNING:tensorflow:From D:\\repos\\neural_nets\\cnn.py:86: initialize_all_variables (from tensorflow.python.ops.variables) is deprecated and will be removed after 2017-03-02.\n",
      "Instructions for updating:\n",
      "Use `tf.global_variables_initializer` instead.\n",
      "Epoch: 0010 cost= 244.141356737\n",
      "3136 1536\n",
      "WARNING:tensorflow:From D:\\repos\\neural_nets\\cnn.py:86: initialize_all_variables (from tensorflow.python.ops.variables) is deprecated and will be removed after 2017-03-02.\n",
      "Instructions for updating:\n",
      "Use `tf.global_variables_initializer` instead.\n",
      "Epoch: 0010 cost= 306.435140592\n",
      "3136 1280\n",
      "WARNING:tensorflow:From D:\\repos\\neural_nets\\cnn.py:86: initialize_all_variables (from tensorflow.python.ops.variables) is deprecated and will be removed after 2017-03-02.\n",
      "Instructions for updating:\n",
      "Use `tf.global_variables_initializer` instead.\n",
      "Epoch: 0010 cost= 279.631034411\n",
      "3136 1088\n",
      "WARNING:tensorflow:From D:\\repos\\neural_nets\\cnn.py:86: initialize_all_variables (from tensorflow.python.ops.variables) is deprecated and will be removed after 2017-03-02.\n",
      "Instructions for updating:\n",
      "Use `tf.global_variables_initializer` instead.\n",
      "Epoch: 0010 cost= 283.351127039\n",
      "3136 1088\n",
      "WARNING:tensorflow:From D:\\repos\\neural_nets\\cnn.py:86: initialize_all_variables (from tensorflow.python.ops.variables) is deprecated and will be removed after 2017-03-02.\n",
      "Instructions for updating:\n",
      "Use `tf.global_variables_initializer` instead.\n",
      "Epoch: 0010 cost= 246.098098619\n",
      "3136 1024\n",
      "WARNING:tensorflow:From D:\\repos\\neural_nets\\cnn.py:86: initialize_all_variables (from tensorflow.python.ops.variables) is deprecated and will be removed after 2017-03-02.\n",
      "Instructions for updating:\n",
      "Use `tf.global_variables_initializer` instead.\n",
      "Epoch: 0010 cost= 193.240723156\n",
      "3136 1024\n",
      "WARNING:tensorflow:From D:\\repos\\neural_nets\\cnn.py:86: initialize_all_variables (from tensorflow.python.ops.variables) is deprecated and will be removed after 2017-03-02.\n",
      "Instructions for updating:\n",
      "Use `tf.global_variables_initializer` instead.\n",
      "Epoch: 0010 cost= 254.104159909\n",
      "3136 1216\n",
      "WARNING:tensorflow:From D:\\repos\\neural_nets\\cnn.py:86: initialize_all_variables (from tensorflow.python.ops.variables) is deprecated and will be removed after 2017-03-02.\n",
      "Instructions for updating:\n",
      "Use `tf.global_variables_initializer` instead.\n",
      "Epoch: 0010 cost= 264.273785232\n",
      "3136 1408\n",
      "WARNING:tensorflow:From D:\\repos\\neural_nets\\cnn.py:86: initialize_all_variables (from tensorflow.python.ops.variables) is deprecated and will be removed after 2017-03-02.\n",
      "Instructions for updating:\n",
      "Use `tf.global_variables_initializer` instead.\n",
      "Epoch: 0010 cost= 314.878209783\n",
      "3136 1408\n",
      "WARNING:tensorflow:From D:\\repos\\neural_nets\\cnn.py:86: initialize_all_variables (from tensorflow.python.ops.variables) is deprecated and will be removed after 2017-03-02.\n",
      "Instructions for updating:\n",
      "Use `tf.global_variables_initializer` instead.\n",
      "Epoch: 0010 cost= 309.412475742\n",
      "3136 1280\n",
      "WARNING:tensorflow:From D:\\repos\\neural_nets\\cnn.py:86: initialize_all_variables (from tensorflow.python.ops.variables) is deprecated and will be removed after 2017-03-02.\n",
      "Instructions for updating:\n",
      "Use `tf.global_variables_initializer` instead.\n"
     ]
    },
    {
     "name": "stdout",
     "output_type": "stream",
     "text": [
      "Epoch: 0010 cost= 282.434728534\n",
      "3136 1408\n",
      "WARNING:tensorflow:From D:\\repos\\neural_nets\\cnn.py:86: initialize_all_variables (from tensorflow.python.ops.variables) is deprecated and will be removed after 2017-03-02.\n",
      "Instructions for updating:\n",
      "Use `tf.global_variables_initializer` instead.\n",
      "Epoch: 0010 cost= 209.303326417\n",
      "3136 1216\n",
      "WARNING:tensorflow:From D:\\repos\\neural_nets\\cnn.py:86: initialize_all_variables (from tensorflow.python.ops.variables) is deprecated and will be removed after 2017-03-02.\n",
      "Instructions for updating:\n",
      "Use `tf.global_variables_initializer` instead.\n",
      "Epoch: 0010 cost= 235.068100929\n",
      "3136 960\n",
      "WARNING:tensorflow:From D:\\repos\\neural_nets\\cnn.py:86: initialize_all_variables (from tensorflow.python.ops.variables) is deprecated and will be removed after 2017-03-02.\n",
      "Instructions for updating:\n",
      "Use `tf.global_variables_initializer` instead.\n",
      "Epoch: 0010 cost= 308.591442085\n",
      "3136 1088\n",
      "WARNING:tensorflow:From D:\\repos\\neural_nets\\cnn.py:86: initialize_all_variables (from tensorflow.python.ops.variables) is deprecated and will be removed after 2017-03-02.\n",
      "Instructions for updating:\n",
      "Use `tf.global_variables_initializer` instead.\n",
      "Epoch: 0010 cost= 293.582752792\n",
      "3136 960\n",
      "WARNING:tensorflow:From D:\\repos\\neural_nets\\cnn.py:86: initialize_all_variables (from tensorflow.python.ops.variables) is deprecated and will be removed after 2017-03-02.\n",
      "Instructions for updating:\n",
      "Use `tf.global_variables_initializer` instead.\n",
      "Epoch: 0010 cost= 224.984474820\n",
      "3136 768\n",
      "WARNING:tensorflow:From D:\\repos\\neural_nets\\cnn.py:86: initialize_all_variables (from tensorflow.python.ops.variables) is deprecated and will be removed after 2017-03-02.\n",
      "Instructions for updating:\n",
      "Use `tf.global_variables_initializer` instead.\n",
      "Epoch: 0010 cost= 218.530930027\n",
      "3136 1216\n",
      "WARNING:tensorflow:From D:\\repos\\neural_nets\\cnn.py:86: initialize_all_variables (from tensorflow.python.ops.variables) is deprecated and will be removed after 2017-03-02.\n",
      "Instructions for updating:\n",
      "Use `tf.global_variables_initializer` instead.\n",
      "Epoch: 0010 cost= 228.382123645\n",
      "3136 1216\n",
      "WARNING:tensorflow:From D:\\repos\\neural_nets\\cnn.py:86: initialize_all_variables (from tensorflow.python.ops.variables) is deprecated and will be removed after 2017-03-02.\n",
      "Instructions for updating:\n",
      "Use `tf.global_variables_initializer` instead.\n",
      "Epoch: 0010 cost= 214.105267130\n",
      "3136 1216\n",
      "WARNING:tensorflow:From D:\\repos\\neural_nets\\cnn.py:86: initialize_all_variables (from tensorflow.python.ops.variables) is deprecated and will be removed after 2017-03-02.\n",
      "Instructions for updating:\n",
      "Use `tf.global_variables_initializer` instead.\n",
      "Epoch: 0010 cost= 253.338036395\n",
      "3136 1280\n",
      "WARNING:tensorflow:From D:\\repos\\neural_nets\\cnn.py:86: initialize_all_variables (from tensorflow.python.ops.variables) is deprecated and will be removed after 2017-03-02.\n",
      "Instructions for updating:\n",
      "Use `tf.global_variables_initializer` instead.\n",
      "Epoch: 0010 cost= 248.994526893\n",
      "3136 1152\n",
      "WARNING:tensorflow:From D:\\repos\\neural_nets\\cnn.py:86: initialize_all_variables (from tensorflow.python.ops.variables) is deprecated and will be removed after 2017-03-02.\n",
      "Instructions for updating:\n",
      "Use `tf.global_variables_initializer` instead.\n",
      "Epoch: 0010 cost= 392.032773915\n",
      "3136 1408\n",
      "WARNING:tensorflow:From D:\\repos\\neural_nets\\cnn.py:86: initialize_all_variables (from tensorflow.python.ops.variables) is deprecated and will be removed after 2017-03-02.\n",
      "Instructions for updating:\n",
      "Use `tf.global_variables_initializer` instead.\n",
      "Epoch: 0010 cost= 254.301349944\n",
      "3136 1344\n",
      "WARNING:tensorflow:From D:\\repos\\neural_nets\\cnn.py:86: initialize_all_variables (from tensorflow.python.ops.variables) is deprecated and will be removed after 2017-03-02.\n",
      "Instructions for updating:\n",
      "Use `tf.global_variables_initializer` instead.\n",
      "Epoch: 0010 cost= 249.745883996\n",
      "3136 1152\n",
      "WARNING:tensorflow:From D:\\repos\\neural_nets\\cnn.py:86: initialize_all_variables (from tensorflow.python.ops.variables) is deprecated and will be removed after 2017-03-02.\n",
      "Instructions for updating:\n",
      "Use `tf.global_variables_initializer` instead.\n",
      "Epoch: 0010 cost= 275.396164794\n",
      "3136 1536\n",
      "WARNING:tensorflow:From D:\\repos\\neural_nets\\cnn.py:86: initialize_all_variables (from tensorflow.python.ops.variables) is deprecated and will be removed after 2017-03-02.\n",
      "Instructions for updating:\n",
      "Use `tf.global_variables_initializer` instead.\n",
      "Epoch: 0010 cost= 186.034146008\n",
      "3136 1536\n",
      "WARNING:tensorflow:From D:\\repos\\neural_nets\\cnn.py:86: initialize_all_variables (from tensorflow.python.ops.variables) is deprecated and will be removed after 2017-03-02.\n",
      "Instructions for updating:\n",
      "Use `tf.global_variables_initializer` instead.\n",
      "Epoch: 0010 cost= 341.297776785\n",
      "3136 1280\n",
      "WARNING:tensorflow:From D:\\repos\\neural_nets\\cnn.py:86: initialize_all_variables (from tensorflow.python.ops.variables) is deprecated and will be removed after 2017-03-02.\n",
      "Instructions for updating:\n",
      "Use `tf.global_variables_initializer` instead.\n",
      "Epoch: 0010 cost= 237.505117345\n",
      "3136 1280\n",
      "WARNING:tensorflow:From D:\\repos\\neural_nets\\cnn.py:86: initialize_all_variables (from tensorflow.python.ops.variables) is deprecated and will be removed after 2017-03-02.\n",
      "Instructions for updating:\n",
      "Use `tf.global_variables_initializer` instead.\n",
      "Epoch: 0010 cost= 216.023895487\n",
      "3136 1280\n",
      "WARNING:tensorflow:From D:\\repos\\neural_nets\\cnn.py:86: initialize_all_variables (from tensorflow.python.ops.variables) is deprecated and will be removed after 2017-03-02.\n",
      "Instructions for updating:\n",
      "Use `tf.global_variables_initializer` instead.\n",
      "Epoch: 0010 cost= 282.472695476\n",
      "3136 1152\n",
      "WARNING:tensorflow:From D:\\repos\\neural_nets\\cnn.py:86: initialize_all_variables (from tensorflow.python.ops.variables) is deprecated and will be removed after 2017-03-02.\n",
      "Instructions for updating:\n",
      "Use `tf.global_variables_initializer` instead.\n",
      "Epoch: 0010 cost= 250.880781842\n",
      "3136 1344\n",
      "WARNING:tensorflow:From D:\\repos\\neural_nets\\cnn.py:86: initialize_all_variables (from tensorflow.python.ops.variables) is deprecated and will be removed after 2017-03-02.\n",
      "Instructions for updating:\n",
      "Use `tf.global_variables_initializer` instead.\n",
      "Epoch: 0010 cost= 362.599471015\n"
     ]
    }
   ],
   "source": [
    "results=ga.evolve(Original)"
   ]
  },
  {
   "cell_type": "code",
   "execution_count": 25,
   "metadata": {},
   "outputs": [
    {
     "data": {
      "text/plain": [
       "[[[{'attributes': {'conv_lvls': {'scale': 0,\n",
       "      'value': [{'scale': [1.0, 8.0], 'value': [5, 32]},\n",
       "       {'scale': [1.0, 8.0], 'value': [5, 64]}]},\n",
       "     'dropout': 0.8,\n",
       "     'fc_lvls': {'scale': 0.0, 'value': [{'scale': 64, 'value': 1280}]},\n",
       "     'n_classes': 10,\n",
       "     'n_inputs': 784,\n",
       "     'pool_lvls': {'value': [{'scale': 0.3, 'value': 2},\n",
       "       {'scale': 0.3, 'value': 2}]}}},\n",
       "   0.98010015],\n",
       "  [{'attributes': {'conv_lvls': {'scale': 0,\n",
       "      'value': [{'scale': [1.0, 8.0], 'value': [5, 32]},\n",
       "       {'scale': [1.0, 8.0], 'value': [5, 64]}]},\n",
       "     'dropout': 0.8,\n",
       "     'fc_lvls': {'scale': 0.0, 'value': [{'scale': 64, 'value': 1344}]},\n",
       "     'n_classes': 10,\n",
       "     'n_inputs': 784,\n",
       "     'pool_lvls': {'value': [{'scale': 0.3, 'value': 2},\n",
       "       {'scale': 0.3, 'value': 2}]}}},\n",
       "   0.97770011],\n",
       "  [{'attributes': {'conv_lvls': {'scale': 0,\n",
       "      'value': [{'scale': [1.0, 8.0], 'value': [5, 32]},\n",
       "       {'scale': [1.0, 8.0], 'value': [5, 64]}]},\n",
       "     'dropout': 0.8,\n",
       "     'fc_lvls': {'scale': 0.0, 'value': [{'scale': 64, 'value': 1280}]},\n",
       "     'n_classes': 10,\n",
       "     'n_inputs': 784,\n",
       "     'pool_lvls': {'value': [{'scale': 0.3, 'value': 2},\n",
       "       {'scale': 0.3, 'value': 2}]}}},\n",
       "   0.97760004],\n",
       "  [{'attributes': {'conv_lvls': {'scale': 0,\n",
       "      'value': [{'scale': [1.0, 8.0], 'value': [5, 32]},\n",
       "       {'scale': [1.0, 8.0], 'value': [5, 64]}]},\n",
       "     'dropout': 0.8,\n",
       "     'fc_lvls': {'scale': 0.0, 'value': [{'scale': 64, 'value': 1152}]},\n",
       "     'n_classes': 10,\n",
       "     'n_inputs': 784,\n",
       "     'pool_lvls': {'value': [{'scale': 0.3, 'value': 2},\n",
       "       {'scale': 0.3, 'value': 2}]}}},\n",
       "   0.97650009],\n",
       "  [{'attributes': {'conv_lvls': {'scale': 0,\n",
       "      'value': [{'scale': [1.0, 8.0], 'value': [5, 32]},\n",
       "       {'scale': [1.0, 8.0], 'value': [5, 64]}]},\n",
       "     'dropout': 0.8,\n",
       "     'fc_lvls': {'scale': 0.0, 'value': [{'scale': 64, 'value': 1280}]},\n",
       "     'n_classes': 10,\n",
       "     'n_inputs': 784,\n",
       "     'pool_lvls': {'value': [{'scale': 0.3, 'value': 2},\n",
       "       {'scale': 0.3, 'value': 2}]}}},\n",
       "   0.97600019]]]"
      ]
     },
     "execution_count": 25,
     "metadata": {},
     "output_type": "execute_result"
    }
   ],
   "source": [
    "results[9]"
   ]
  }
 ],
 "metadata": {
  "kernelspec": {
   "display_name": "Python 3",
   "language": "python",
   "name": "python3"
  },
  "language_info": {
   "codemirror_mode": {
    "name": "ipython",
    "version": 3
   },
   "file_extension": ".py",
   "mimetype": "text/x-python",
   "name": "python",
   "nbconvert_exporter": "python",
   "pygments_lexer": "ipython3",
   "version": "3.6.2"
  }
 },
 "nbformat": 4,
 "nbformat_minor": 2
}
