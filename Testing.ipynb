{
 "cells": [
  {
   "cell_type": "code",
   "execution_count": 1,
   "metadata": {
    "collapsed": true
   },
   "outputs": [],
   "source": [
    "import numpy as np"
   ]
  },
  {
   "cell_type": "code",
   "execution_count": 2,
   "metadata": {
    "collapsed": true
   },
   "outputs": [],
   "source": [
    "training_data=np.load('D:\\data\\data.npy')"
   ]
  },
  {
   "cell_type": "markdown",
   "metadata": {},
   "source": [
    "# Classification MLP"
   ]
  },
  {
   "cell_type": "code",
   "execution_count": 3,
   "metadata": {},
   "outputs": [
    {
     "name": "stderr",
     "output_type": "stream",
     "text": [
      "D:\\Anaconda\\envs\\tensorflow\\lib\\site-packages\\sklearn\\cross_validation.py:41: DeprecationWarning: This module was deprecated in version 0.18 in favor of the model_selection module into which all the refactored classes and functions are moved. Also note that the interface of the new CV iterators are different from that of this module. This module will be removed in 0.20.\n",
      "  \"This module will be removed in 0.20.\", DeprecationWarning)\n"
     ]
    }
   ],
   "source": [
    "from mlp import classification_mlp"
   ]
  },
  {
   "cell_type": "code",
   "execution_count": 4,
   "metadata": {
    "collapsed": true
   },
   "outputs": [],
   "source": [
    "from genetic_algorithms import mutate_top"
   ]
  },
  {
   "cell_type": "code",
   "execution_count": 5,
   "metadata": {
    "collapsed": true
   },
   "outputs": [],
   "source": [
    "cmlp=classification_mlp()"
   ]
  },
  {
   "cell_type": "code",
   "execution_count": 6,
   "metadata": {
    "collapsed": true
   },
   "outputs": [],
   "source": [
    "ga=mutate_top(cmlp,attributes=['hidden_lvls'])"
   ]
  },
  {
   "cell_type": "code",
   "execution_count": 7,
   "metadata": {
    "collapsed": true
   },
   "outputs": [],
   "source": [
    "Original = {'attributes': {'n_inputs': 784, \n",
    "'hidden_lvls': {'value': [{'value': 128, 'scale': 8.0},{'value':128,'scale':8.0}],'scale':0}, #setting scale=0 keeps same number of hidden levels\n",
    "'n_classes':10 }}"
   ]
  },
  {
   "cell_type": "code",
   "execution_count": 8,
   "metadata": {},
   "outputs": [
    {
     "name": "stdout",
     "output_type": "stream",
     "text": [
      "Extracting /tmp/data/train-images-idx3-ubyte.gz\n",
      "Extracting /tmp/data/train-labels-idx1-ubyte.gz\n",
      "Extracting /tmp/data/t10k-images-idx3-ubyte.gz\n",
      "Extracting /tmp/data/t10k-labels-idx1-ubyte.gz\n"
     ]
    }
   ],
   "source": [
    "from tensorflow.examples.tutorials.mnist import input_data\n",
    "mnist = input_data.read_data_sets(\"/tmp/data/\", one_hot=True)"
   ]
  },
  {
   "cell_type": "code",
   "execution_count": 9,
   "metadata": {
    "collapsed": true
   },
   "outputs": [],
   "source": [
    "train_params={\n",
    "    'training_epochs': 1,\n",
    "    'batch_size': 200,\n",
    "    'learning_rate':.001,\n",
    "    'data': training_data,\n",
    "    'test_x':mnist.test.images,\n",
    "    'test_y':mnist.test.labels\n",
    "}"
   ]
  },
  {
   "cell_type": "code",
   "execution_count": null,
   "metadata": {
    "collapsed": true
   },
   "outputs": [],
   "source": [
    "ga.pass_params(kwargs=train_params)"
   ]
  },
  {
   "cell_type": "code",
   "execution_count": null,
   "metadata": {},
   "outputs": [
    {
     "name": "stdout",
     "output_type": "stream",
     "text": [
      "WARNING:tensorflow:From D:\\repos\\neural_nets\\mlp.py:64: initialize_all_variables (from tensorflow.python.ops.variables) is deprecated and will be removed after 2017-03-02.\n",
      "Instructions for updating:\n",
      "Use `tf.global_variables_initializer` instead.\n",
      "Epoch: 0001 cost= 191.345713770\n",
      "Model Trained\n",
      "Testing...\n",
      "INFO:tensorflow:Restoring parameters from /tmp/1509320843_mlp\n",
      "Testing Acc: 0.7329\n",
      "WARNING:tensorflow:From D:\\repos\\neural_nets\\mlp.py:64: initialize_all_variables (from tensorflow.python.ops.variables) is deprecated and will be removed after 2017-03-02.\n",
      "Instructions for updating:\n",
      "Use `tf.global_variables_initializer` instead.\n",
      "Epoch: 0001 cost= 219.437077731\n",
      "Model Trained\n",
      "Testing...\n",
      "INFO:tensorflow:Restoring parameters from /tmp/1509320850_mlp\n",
      "Testing Acc: 0.7379\n",
      "WARNING:tensorflow:From D:\\repos\\neural_nets\\mlp.py:64: initialize_all_variables (from tensorflow.python.ops.variables) is deprecated and will be removed after 2017-03-02.\n",
      "Instructions for updating:\n",
      "Use `tf.global_variables_initializer` instead.\n",
      "Epoch: 0001 cost= 194.948461133\n",
      "Model Trained\n",
      "Testing...\n",
      "INFO:tensorflow:Restoring parameters from /tmp/1509320857_mlp\n",
      "Testing Acc: 0.7456\n",
      "WARNING:tensorflow:From D:\\repos\\neural_nets\\mlp.py:64: initialize_all_variables (from tensorflow.python.ops.variables) is deprecated and will be removed after 2017-03-02.\n",
      "Instructions for updating:\n",
      "Use `tf.global_variables_initializer` instead.\n",
      "Epoch: 0001 cost= 150.242334656\n",
      "Model Trained\n",
      "Testing...\n",
      "INFO:tensorflow:Restoring parameters from /tmp/1509320864_mlp\n",
      "Testing Acc: 0.7451\n",
      "WARNING:tensorflow:From D:\\repos\\neural_nets\\mlp.py:64: initialize_all_variables (from tensorflow.python.ops.variables) is deprecated and will be removed after 2017-03-02.\n",
      "Instructions for updating:\n",
      "Use `tf.global_variables_initializer` instead.\n",
      "Epoch: 0001 cost= 199.040830213\n",
      "Model Trained\n",
      "Testing...\n",
      "INFO:tensorflow:Restoring parameters from /tmp/1509320872_mlp\n",
      "Testing Acc: 0.7257\n",
      "Generation Finished top is:\n",
      "[{'attributes': {'n_inputs': 784, 'hidden_lvls': {'value': [{'value': 176, 'scale': 8.0}, {'value': 120, 'scale': 8.0}], 'scale': 0}, 'n_classes': 10}}, 0.74559999]\n",
      "WARNING:tensorflow:From D:\\repos\\neural_nets\\mlp.py:64: initialize_all_variables (from tensorflow.python.ops.variables) is deprecated and will be removed after 2017-03-02.\n",
      "Instructions for updating:\n",
      "Use `tf.global_variables_initializer` instead.\n",
      "Epoch: 0001 cost= 183.931716447\n",
      "Model Trained\n",
      "Testing...\n",
      "INFO:tensorflow:Restoring parameters from /tmp/1509320881_mlp\n",
      "Testing Acc: 0.7582\n",
      "WARNING:tensorflow:From D:\\repos\\neural_nets\\mlp.py:64: initialize_all_variables (from tensorflow.python.ops.variables) is deprecated and will be removed after 2017-03-02.\n",
      "Instructions for updating:\n",
      "Use `tf.global_variables_initializer` instead.\n",
      "Epoch: 0001 cost= 191.344938569\n",
      "Model Trained\n",
      "Testing...\n",
      "INFO:tensorflow:Restoring parameters from /tmp/1509320891_mlp\n",
      "Testing Acc: 0.7383\n",
      "WARNING:tensorflow:From D:\\repos\\neural_nets\\mlp.py:64: initialize_all_variables (from tensorflow.python.ops.variables) is deprecated and will be removed after 2017-03-02.\n",
      "Instructions for updating:\n",
      "Use `tf.global_variables_initializer` instead.\n",
      "Epoch: 0001 cost= 196.545749864\n",
      "Model Trained\n",
      "Testing...\n",
      "INFO:tensorflow:Restoring parameters from /tmp/1509320903_mlp\n",
      "Testing Acc: 0.7708\n",
      "WARNING:tensorflow:From D:\\repos\\neural_nets\\mlp.py:64: initialize_all_variables (from tensorflow.python.ops.variables) is deprecated and will be removed after 2017-03-02.\n",
      "Instructions for updating:\n",
      "Use `tf.global_variables_initializer` instead.\n",
      "Epoch: 0001 cost= 196.558025941\n",
      "Model Trained\n",
      "Testing...\n",
      "INFO:tensorflow:Restoring parameters from /tmp/1509320915_mlp\n",
      "Testing Acc: 0.7531\n",
      "WARNING:tensorflow:From D:\\repos\\neural_nets\\mlp.py:64: initialize_all_variables (from tensorflow.python.ops.variables) is deprecated and will be removed after 2017-03-02.\n",
      "Instructions for updating:\n",
      "Use `tf.global_variables_initializer` instead.\n",
      "Epoch: 0001 cost= 201.928953970\n",
      "Model Trained\n",
      "Testing...\n",
      "INFO:tensorflow:Restoring parameters from /tmp/1509320929_mlp\n",
      "Testing Acc: 0.7528\n",
      "Generation Finished top is:\n",
      "[{'attributes': {'n_inputs': 784, 'hidden_lvls': {'value': [{'value': 224, 'scale': 8.0}, {'value': 112, 'scale': 8.0}], 'scale': 0}, 'n_classes': 10}}, 0.77080005]\n",
      "WARNING:tensorflow:From D:\\repos\\neural_nets\\mlp.py:64: initialize_all_variables (from tensorflow.python.ops.variables) is deprecated and will be removed after 2017-03-02.\n",
      "Instructions for updating:\n",
      "Use `tf.global_variables_initializer` instead.\n",
      "Epoch: 0001 cost= 174.847464571\n",
      "Model Trained\n",
      "Testing...\n",
      "INFO:tensorflow:Restoring parameters from /tmp/1509320944_mlp\n",
      "Testing Acc: 0.7447\n",
      "WARNING:tensorflow:From D:\\repos\\neural_nets\\mlp.py:64: initialize_all_variables (from tensorflow.python.ops.variables) is deprecated and will be removed after 2017-03-02.\n",
      "Instructions for updating:\n",
      "Use `tf.global_variables_initializer` instead.\n",
      "Epoch: 0001 cost= 134.148762985\n",
      "Model Trained\n",
      "Testing...\n",
      "INFO:tensorflow:Restoring parameters from /tmp/1509320960_mlp\n",
      "Testing Acc: 0.7152\n",
      "WARNING:tensorflow:From D:\\repos\\neural_nets\\mlp.py:64: initialize_all_variables (from tensorflow.python.ops.variables) is deprecated and will be removed after 2017-03-02.\n",
      "Instructions for updating:\n",
      "Use `tf.global_variables_initializer` instead.\n",
      "Epoch: 0001 cost= 129.732713527\n",
      "Model Trained\n",
      "Testing...\n",
      "INFO:tensorflow:Restoring parameters from /tmp/1509320978_mlp\n",
      "Testing Acc: 0.6208\n",
      "WARNING:tensorflow:From D:\\repos\\neural_nets\\mlp.py:64: initialize_all_variables (from tensorflow.python.ops.variables) is deprecated and will be removed after 2017-03-02.\n",
      "Instructions for updating:\n",
      "Use `tf.global_variables_initializer` instead.\n",
      "Epoch: 0001 cost= 227.136654173\n",
      "Model Trained\n",
      "Testing...\n",
      "INFO:tensorflow:Restoring parameters from /tmp/1509320998_mlp\n",
      "Testing Acc: 0.7121\n",
      "WARNING:tensorflow:From D:\\repos\\neural_nets\\mlp.py:64: initialize_all_variables (from tensorflow.python.ops.variables) is deprecated and will be removed after 2017-03-02.\n",
      "Instructions for updating:\n",
      "Use `tf.global_variables_initializer` instead.\n",
      "Epoch: 0001 cost= 204.859228080\n",
      "Model Trained\n",
      "Testing...\n",
      "INFO:tensorflow:Restoring parameters from /tmp/1509321020_mlp\n",
      "Testing Acc: 0.7292\n",
      "Generation Finished top is:\n",
      "[{'attributes': {'n_inputs': 784, 'hidden_lvls': {'value': [{'value': 224, 'scale': 8.0}, {'value': 80, 'scale': 8.0}], 'scale': 0}, 'n_classes': 10}}, 0.74469995]\n",
      "WARNING:tensorflow:From D:\\repos\\neural_nets\\mlp.py:64: initialize_all_variables (from tensorflow.python.ops.variables) is deprecated and will be removed after 2017-03-02.\n",
      "Instructions for updating:\n",
      "Use `tf.global_variables_initializer` instead.\n",
      "Epoch: 0001 cost= 208.732199369\n",
      "Model Trained\n",
      "Testing...\n",
      "INFO:tensorflow:Restoring parameters from /tmp/1509321043_mlp\n",
      "Testing Acc: 0.7655\n",
      "WARNING:tensorflow:From D:\\repos\\neural_nets\\mlp.py:64: initialize_all_variables (from tensorflow.python.ops.variables) is deprecated and will be removed after 2017-03-02.\n",
      "Instructions for updating:\n",
      "Use `tf.global_variables_initializer` instead.\n",
      "Epoch: 0001 cost= 244.743330292\n",
      "Model Trained\n",
      "Testing...\n",
      "INFO:tensorflow:Restoring parameters from /tmp/1509321069_mlp\n",
      "Testing Acc: 0.7608\n",
      "WARNING:tensorflow:From D:\\repos\\neural_nets\\mlp.py:64: initialize_all_variables (from tensorflow.python.ops.variables) is deprecated and will be removed after 2017-03-02.\n",
      "Instructions for updating:\n",
      "Use `tf.global_variables_initializer` instead.\n",
      "Epoch: 0001 cost= 230.614772052\n",
      "Model Trained\n",
      "Testing...\n",
      "INFO:tensorflow:Restoring parameters from /tmp/1509321097_mlp\n",
      "Testing Acc: 0.7552\n",
      "WARNING:tensorflow:From D:\\repos\\neural_nets\\mlp.py:64: initialize_all_variables (from tensorflow.python.ops.variables) is deprecated and will be removed after 2017-03-02.\n",
      "Instructions for updating:\n",
      "Use `tf.global_variables_initializer` instead.\n",
      "Epoch: 0001 cost= 173.118543589\n",
      "Model Trained\n",
      "Testing...\n",
      "INFO:tensorflow:Restoring parameters from /tmp/1509321127_mlp\n",
      "Testing Acc: 0.7629\n",
      "WARNING:tensorflow:From D:\\repos\\neural_nets\\mlp.py:64: initialize_all_variables (from tensorflow.python.ops.variables) is deprecated and will be removed after 2017-03-02.\n",
      "Instructions for updating:\n",
      "Use `tf.global_variables_initializer` instead.\n",
      "Epoch: 0001 cost= 188.400433422\n",
      "Model Trained\n",
      "Testing...\n",
      "INFO:tensorflow:Restoring parameters from /tmp/1509321160_mlp\n"
     ]
    },
    {
     "name": "stdout",
     "output_type": "stream",
     "text": [
      "Testing Acc: 0.7227\n",
      "Generation Finished top is:\n",
      "[{'attributes': {'n_inputs': 784, 'hidden_lvls': {'value': [{'value': 232, 'scale': 8.0}, {'value': 104, 'scale': 8.0}], 'scale': 0}, 'n_classes': 10}}, 0.76549995]\n",
      "WARNING:tensorflow:From D:\\repos\\neural_nets\\mlp.py:64: initialize_all_variables (from tensorflow.python.ops.variables) is deprecated and will be removed after 2017-03-02.\n",
      "Instructions for updating:\n",
      "Use `tf.global_variables_initializer` instead.\n",
      "Epoch: 0001 cost= 166.111565926\n",
      "Model Trained\n",
      "Testing...\n",
      "INFO:tensorflow:Restoring parameters from /tmp/1509321200_mlp\n",
      "Testing Acc: 0.7799\n",
      "WARNING:tensorflow:From D:\\repos\\neural_nets\\mlp.py:64: initialize_all_variables (from tensorflow.python.ops.variables) is deprecated and will be removed after 2017-03-02.\n",
      "Instructions for updating:\n",
      "Use `tf.global_variables_initializer` instead.\n",
      "Epoch: 0001 cost= 150.094028618\n",
      "Model Trained\n",
      "Testing...\n",
      "INFO:tensorflow:Restoring parameters from /tmp/1509321241_mlp\n",
      "Testing Acc: 0.7758\n",
      "WARNING:tensorflow:From D:\\repos\\neural_nets\\mlp.py:64: initialize_all_variables (from tensorflow.python.ops.variables) is deprecated and will be removed after 2017-03-02.\n",
      "Instructions for updating:\n",
      "Use `tf.global_variables_initializer` instead.\n",
      "Epoch: 0001 cost= 183.779714385\n",
      "Model Trained\n",
      "Testing...\n",
      "INFO:tensorflow:Restoring parameters from /tmp/1509321284_mlp\n",
      "Testing Acc: 0.6343\n",
      "WARNING:tensorflow:From D:\\repos\\neural_nets\\mlp.py:64: initialize_all_variables (from tensorflow.python.ops.variables) is deprecated and will be removed after 2017-03-02.\n",
      "Instructions for updating:\n",
      "Use `tf.global_variables_initializer` instead.\n",
      "Epoch: 0001 cost= 88.003830322\n",
      "Model Trained\n",
      "Testing...\n",
      "INFO:tensorflow:Restoring parameters from /tmp/1509321328_mlp\n",
      "Testing Acc: 0.2687\n",
      "WARNING:tensorflow:From D:\\repos\\neural_nets\\mlp.py:64: initialize_all_variables (from tensorflow.python.ops.variables) is deprecated and will be removed after 2017-03-02.\n",
      "Instructions for updating:\n",
      "Use `tf.global_variables_initializer` instead.\n",
      "Epoch: 0001 cost= 56.347457376\n",
      "Model Trained\n",
      "Testing...\n",
      "INFO:tensorflow:Restoring parameters from /tmp/1509321375_mlp\n",
      "Testing Acc: 0.1591\n",
      "Generation Finished top is:\n",
      "[{'attributes': {'n_inputs': 784, 'hidden_lvls': {'value': [{'value': 232, 'scale': 8.0}, {'value': 120, 'scale': 8.0}], 'scale': 0}, 'n_classes': 10}}, 0.77990001]\n",
      "WARNING:tensorflow:From D:\\repos\\neural_nets\\mlp.py:64: initialize_all_variables (from tensorflow.python.ops.variables) is deprecated and will be removed after 2017-03-02.\n",
      "Instructions for updating:\n",
      "Use `tf.global_variables_initializer` instead.\n",
      "Epoch: 0001 cost= 177.033235913\n",
      "Model Trained\n",
      "Testing...\n",
      "INFO:tensorflow:Restoring parameters from /tmp/1509321423_mlp\n",
      "Testing Acc: 0.774\n",
      "WARNING:tensorflow:From D:\\repos\\neural_nets\\mlp.py:64: initialize_all_variables (from tensorflow.python.ops.variables) is deprecated and will be removed after 2017-03-02.\n",
      "Instructions for updating:\n",
      "Use `tf.global_variables_initializer` instead.\n",
      "Epoch: 0001 cost= 165.149221765\n",
      "Model Trained\n",
      "Testing...\n",
      "INFO:tensorflow:Restoring parameters from /tmp/1509321476_mlp\n",
      "Testing Acc: 0.7783\n",
      "WARNING:tensorflow:From D:\\repos\\neural_nets\\mlp.py:64: initialize_all_variables (from tensorflow.python.ops.variables) is deprecated and will be removed after 2017-03-02.\n",
      "Instructions for updating:\n",
      "Use `tf.global_variables_initializer` instead.\n",
      "Epoch: 0001 cost= 182.158914621\n",
      "Model Trained\n",
      "Testing...\n",
      "INFO:tensorflow:Restoring parameters from /tmp/1509321531_mlp\n",
      "Testing Acc: 0.7754\n",
      "WARNING:tensorflow:From D:\\repos\\neural_nets\\mlp.py:64: initialize_all_variables (from tensorflow.python.ops.variables) is deprecated and will be removed after 2017-03-02.\n",
      "Instructions for updating:\n",
      "Use `tf.global_variables_initializer` instead.\n",
      "Epoch: 0001 cost= 223.532505308\n",
      "Model Trained\n",
      "Testing...\n",
      "INFO:tensorflow:Restoring parameters from /tmp/1509321590_mlp\n",
      "Testing Acc: 0.761\n",
      "WARNING:tensorflow:From D:\\repos\\neural_nets\\mlp.py:64: initialize_all_variables (from tensorflow.python.ops.variables) is deprecated and will be removed after 2017-03-02.\n",
      "Instructions for updating:\n",
      "Use `tf.global_variables_initializer` instead.\n",
      "Epoch: 0001 cost= 209.083245177\n",
      "Model Trained\n",
      "Testing...\n",
      "INFO:tensorflow:Restoring parameters from /tmp/1509321652_mlp\n",
      "Testing Acc: 0.7859\n",
      "Generation Finished top is:\n",
      "[{'attributes': {'n_inputs': 784, 'hidden_lvls': {'value': [{'value': 224, 'scale': 8.0}, {'value': 152, 'scale': 8.0}], 'scale': 0}, 'n_classes': 10}}, 0.78590006]\n",
      "WARNING:tensorflow:From D:\\repos\\neural_nets\\mlp.py:64: initialize_all_variables (from tensorflow.python.ops.variables) is deprecated and will be removed after 2017-03-02.\n",
      "Instructions for updating:\n",
      "Use `tf.global_variables_initializer` instead.\n",
      "Epoch: 0001 cost= 223.473273014\n",
      "Model Trained\n",
      "Testing...\n",
      "INFO:tensorflow:Restoring parameters from /tmp/1509321718_mlp\n",
      "Testing Acc: 0.7711\n",
      "WARNING:tensorflow:From D:\\repos\\neural_nets\\mlp.py:64: initialize_all_variables (from tensorflow.python.ops.variables) is deprecated and will be removed after 2017-03-02.\n",
      "Instructions for updating:\n",
      "Use `tf.global_variables_initializer` instead.\n",
      "Epoch: 0001 cost= 190.522677249\n",
      "Model Trained\n",
      "Testing...\n",
      "INFO:tensorflow:Restoring parameters from /tmp/1509321788_mlp\n",
      "Testing Acc: 0.7621\n",
      "WARNING:tensorflow:From D:\\repos\\neural_nets\\mlp.py:64: initialize_all_variables (from tensorflow.python.ops.variables) is deprecated and will be removed after 2017-03-02.\n",
      "Instructions for updating:\n",
      "Use `tf.global_variables_initializer` instead.\n",
      "Epoch: 0001 cost= 228.062305868\n",
      "Model Trained\n",
      "Testing...\n",
      "INFO:tensorflow:Restoring parameters from /tmp/1509321861_mlp\n",
      "Testing Acc: 0.7652\n",
      "WARNING:tensorflow:From D:\\repos\\neural_nets\\mlp.py:64: initialize_all_variables (from tensorflow.python.ops.variables) is deprecated and will be removed after 2017-03-02.\n",
      "Instructions for updating:\n",
      "Use `tf.global_variables_initializer` instead.\n",
      "Epoch: 0001 cost= 326.222650001\n",
      "Model Trained\n",
      "Testing...\n",
      "INFO:tensorflow:Restoring parameters from /tmp/1509321939_mlp\n",
      "Testing Acc: 0.7304\n",
      "WARNING:tensorflow:From D:\\repos\\neural_nets\\mlp.py:64: initialize_all_variables (from tensorflow.python.ops.variables) is deprecated and will be removed after 2017-03-02.\n",
      "Instructions for updating:\n",
      "Use `tf.global_variables_initializer` instead.\n",
      "Epoch: 0001 cost= 252.387424959\n",
      "Model Trained\n",
      "Testing...\n",
      "INFO:tensorflow:Restoring parameters from /tmp/1509322020_mlp\n",
      "Testing Acc: 0.7317\n",
      "Generation Finished top is:\n",
      "[{'attributes': {'n_inputs': 784, 'hidden_lvls': {'value': [{'value': 216, 'scale': 8.0}, {'value': 144, 'scale': 8.0}], 'scale': 0}, 'n_classes': 10}}, 0.77110004]\n",
      "WARNING:tensorflow:From D:\\repos\\neural_nets\\mlp.py:64: initialize_all_variables (from tensorflow.python.ops.variables) is deprecated and will be removed after 2017-03-02.\n",
      "Instructions for updating:\n",
      "Use `tf.global_variables_initializer` instead.\n",
      "Epoch: 0001 cost= 225.726633780\n",
      "Model Trained\n",
      "Testing...\n",
      "INFO:tensorflow:Restoring parameters from /tmp/1509322106_mlp\n",
      "Testing Acc: 0.7768\n",
      "WARNING:tensorflow:From D:\\repos\\neural_nets\\mlp.py:64: initialize_all_variables (from tensorflow.python.ops.variables) is deprecated and will be removed after 2017-03-02.\n",
      "Instructions for updating:\n",
      "Use `tf.global_variables_initializer` instead.\n",
      "Epoch: 0001 cost= 181.341748882\n",
      "Model Trained\n",
      "Testing...\n",
      "INFO:tensorflow:Restoring parameters from /tmp/1509322196_mlp\n",
      "Testing Acc: 0.7449\n",
      "WARNING:tensorflow:From D:\\repos\\neural_nets\\mlp.py:64: initialize_all_variables (from tensorflow.python.ops.variables) is deprecated and will be removed after 2017-03-02.\n",
      "Instructions for updating:\n",
      "Use `tf.global_variables_initializer` instead.\n",
      "Epoch: 0001 cost= 178.800885500\n",
      "Model Trained\n",
      "Testing...\n",
      "INFO:tensorflow:Restoring parameters from /tmp/1509322290_mlp\n",
      "Testing Acc: 0.7687\n",
      "WARNING:tensorflow:From D:\\repos\\neural_nets\\mlp.py:64: initialize_all_variables (from tensorflow.python.ops.variables) is deprecated and will be removed after 2017-03-02.\n",
      "Instructions for updating:\n",
      "Use `tf.global_variables_initializer` instead.\n",
      "Epoch: 0001 cost= 173.459477470\n",
      "Model Trained\n",
      "Testing...\n",
      "INFO:tensorflow:Restoring parameters from /tmp/1509322390_mlp\n",
      "Testing Acc: 0.7413\n",
      "WARNING:tensorflow:From D:\\repos\\neural_nets\\mlp.py:64: initialize_all_variables (from tensorflow.python.ops.variables) is deprecated and will be removed after 2017-03-02.\n",
      "Instructions for updating:\n",
      "Use `tf.global_variables_initializer` instead.\n"
     ]
    },
    {
     "name": "stdout",
     "output_type": "stream",
     "text": [
      "Epoch: 0001 cost= 168.981159828\n",
      "Model Trained\n",
      "Testing...\n",
      "INFO:tensorflow:Restoring parameters from /tmp/1509322493_mlp\n",
      "Testing Acc: 0.7148\n",
      "Generation Finished top is:\n",
      "[{'attributes': {'n_inputs': 784, 'hidden_lvls': {'value': [{'value': 216, 'scale': 8.0}, {'value': 128, 'scale': 8.0}], 'scale': 0}, 'n_classes': 10}}, 0.77679998]\n",
      "WARNING:tensorflow:From D:\\repos\\neural_nets\\mlp.py:64: initialize_all_variables (from tensorflow.python.ops.variables) is deprecated and will be removed after 2017-03-02.\n",
      "Instructions for updating:\n",
      "Use `tf.global_variables_initializer` instead.\n",
      "Epoch: 0001 cost= 212.903895206\n",
      "Model Trained\n",
      "Testing...\n",
      "INFO:tensorflow:Restoring parameters from /tmp/1509322602_mlp\n"
     ]
    }
   ],
   "source": [
    "results=ga.evolve(Original)"
   ]
  },
  {
   "cell_type": "code",
   "execution_count": null,
   "metadata": {
    "collapsed": true
   },
   "outputs": [],
   "source": [
    "results[8]"
   ]
  },
  {
   "cell_type": "markdown",
   "metadata": {},
   "source": [
    "# Classification CNN"
   ]
  },
  {
   "cell_type": "code",
   "execution_count": null,
   "metadata": {
    "collapsed": true,
    "scrolled": true
   },
   "outputs": [],
   "source": [
    "from cnn import classification_cnn"
   ]
  },
  {
   "cell_type": "code",
   "execution_count": null,
   "metadata": {
    "collapsed": true
   },
   "outputs": [],
   "source": [
    "from genetic_algorithms import mutate_top"
   ]
  },
  {
   "cell_type": "code",
   "execution_count": null,
   "metadata": {
    "collapsed": true
   },
   "outputs": [],
   "source": [
    "cnn=classification_cnn()"
   ]
  },
  {
   "cell_type": "code",
   "execution_count": null,
   "metadata": {
    "collapsed": true
   },
   "outputs": [],
   "source": [
    "ga=mutate_top(cnn,attributes=['fc_lvls'])"
   ]
  },
  {
   "cell_type": "code",
   "execution_count": null,
   "metadata": {
    "collapsed": true
   },
   "outputs": [],
   "source": [
    "Original = {'attributes': {'n_inputs': 784, \n",
    "'conv_lvls': {'value': [{'value': [5,32], 'scale': [1.0,8.0]},\n",
    "                        {'value':[5,64],'scale':[1.0,8.0]}],\n",
    "              'scale':0}, #setting scale=0 keeps same number of hidden levels\n",
    "'pool_lvls':{'value':[{'value':2,'scale':.3},{'value':2,'scale':.3}]},\n",
    "'fc_lvls':{'value':[{'value':1024,'scale':64}],\n",
    "           'scale':0.0},\n",
    "'n_classes':10 ,\n",
    "'dropout':.8}}"
   ]
  },
  {
   "cell_type": "code",
   "execution_count": null,
   "metadata": {
    "collapsed": true
   },
   "outputs": [],
   "source": [
    "from tensorflow.examples.tutorials.mnist import input_data\n",
    "mnist = input_data.read_data_sets(\"/tmp/data/\", one_hot=True)"
   ]
  },
  {
   "cell_type": "code",
   "execution_count": null,
   "metadata": {
    "collapsed": true
   },
   "outputs": [],
   "source": [
    "train_params={\n",
    "    'training_epochs': 10,\n",
    "    'batch_size': 200,\n",
    "    'learning_rate':.001,\n",
    "    'data': training_data,\n",
    "    'test_x':mnist.test.images,\n",
    "    'test_y':mnist.test.labels\n",
    "}"
   ]
  },
  {
   "cell_type": "code",
   "execution_count": null,
   "metadata": {
    "collapsed": true
   },
   "outputs": [],
   "source": [
    "ga.pass_params(kwargs=train_params)"
   ]
  },
  {
   "cell_type": "code",
   "execution_count": null,
   "metadata": {
    "collapsed": true
   },
   "outputs": [],
   "source": [
    "results=ga.evolve(Original)"
   ]
  },
  {
   "cell_type": "code",
   "execution_count": null,
   "metadata": {
    "collapsed": true
   },
   "outputs": [],
   "source": [
    "results[9]"
   ]
  }
 ],
 "metadata": {
  "kernelspec": {
   "display_name": "Python 3",
   "language": "python",
   "name": "python3"
  },
  "language_info": {
   "codemirror_mode": {
    "name": "ipython",
    "version": 3
   },
   "file_extension": ".py",
   "mimetype": "text/x-python",
   "name": "python",
   "nbconvert_exporter": "python",
   "pygments_lexer": "ipython3",
   "version": "3.6.2"
  }
 },
 "nbformat": 4,
 "nbformat_minor": 2
}
