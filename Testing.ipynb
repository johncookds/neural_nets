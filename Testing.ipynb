{
 "cells": [
  {
   "cell_type": "code",
   "execution_count": 1,
   "metadata": {
    "collapsed": true
   },
   "outputs": [],
   "source": [
    "import numpy as np"
   ]
  },
  {
   "cell_type": "code",
   "execution_count": 2,
   "metadata": {},
   "outputs": [],
   "source": [
    "training_data=np.load('D:\\data\\data.npy')"
   ]
  },
  {
   "cell_type": "code",
   "execution_count": 3,
   "metadata": {},
   "outputs": [
    {
     "name": "stderr",
     "output_type": "stream",
     "text": [
      "D:\\Anaconda\\envs\\tensorflow\\lib\\site-packages\\sklearn\\cross_validation.py:41: DeprecationWarning: This module was deprecated in version 0.18 in favor of the model_selection module into which all the refactored classes and functions are moved. Also note that the interface of the new CV iterators are different from that of this module. This module will be removed in 0.20.\n",
      "  \"This module will be removed in 0.20.\", DeprecationWarning)\n"
     ]
    }
   ],
   "source": [
    "from mlp import classification_mlp"
   ]
  },
  {
   "cell_type": "code",
   "execution_count": 4,
   "metadata": {},
   "outputs": [],
   "source": [
    "from genetic_algorithms import mutate_top"
   ]
  },
  {
   "cell_type": "code",
   "execution_count": 5,
   "metadata": {
    "collapsed": true
   },
   "outputs": [],
   "source": [
    "cmlp=classification_mlp()"
   ]
  },
  {
   "cell_type": "code",
   "execution_count": 6,
   "metadata": {},
   "outputs": [],
   "source": [
    "ga=mutate_top(cmlp,attributes=['hidden_lvls'])"
   ]
  },
  {
   "cell_type": "code",
   "execution_count": 7,
   "metadata": {},
   "outputs": [],
   "source": [
    "Original = {'attributes': {'n_inputs': 784, \n",
    "'hidden_lvls': {'value': [{'value': 128, 'scale': 32.0},{'value':128,'scale':32.0}],'scale':0}, #setting scale=0 keeps same number of hidden levels\n",
    "'n_classes':10 }}"
   ]
  },
  {
   "cell_type": "code",
   "execution_count": 8,
   "metadata": {},
   "outputs": [
    {
     "name": "stdout",
     "output_type": "stream",
     "text": [
      "Extracting /tmp/data/train-images-idx3-ubyte.gz\n",
      "Extracting /tmp/data/train-labels-idx1-ubyte.gz\n",
      "Extracting /tmp/data/t10k-images-idx3-ubyte.gz\n",
      "Extracting /tmp/data/t10k-labels-idx1-ubyte.gz\n"
     ]
    }
   ],
   "source": [
    "from tensorflow.examples.tutorials.mnist import input_data\n",
    "mnist = input_data.read_data_sets(\"/tmp/data/\", one_hot=True)"
   ]
  },
  {
   "cell_type": "code",
   "execution_count": 9,
   "metadata": {},
   "outputs": [],
   "source": [
    "train_params={\n",
    "    'training_epochs': 5,\n",
    "    'batch_size': 200,\n",
    "    'learning_rate':.001,\n",
    "    'data': training_data,\n",
    "    'test_x':mnist.test.images,\n",
    "    'test_y':mnist.test.labels\n",
    "}"
   ]
  },
  {
   "cell_type": "code",
   "execution_count": 10,
   "metadata": {},
   "outputs": [],
   "source": [
    "ga.pass_params(kwargs=train_params)"
   ]
  },
  {
   "cell_type": "code",
   "execution_count": 12,
   "metadata": {},
   "outputs": [
    {
     "name": "stdout",
     "output_type": "stream",
     "text": [
      "WARNING:tensorflow:From D:\\repos\\neural_nets\\mlp.py:48: initialize_all_variables (from tensorflow.python.ops.variables) is deprecated and will be removed after 2017-03-02.\n",
      "Instructions for updating:\n",
      "Use `tf.global_variables_initializer` instead.\n",
      "Epoch: 0005 cost= 11.816805320\n",
      "WARNING:tensorflow:From D:\\repos\\neural_nets\\mlp.py:48: initialize_all_variables (from tensorflow.python.ops.variables) is deprecated and will be removed after 2017-03-02.\n",
      "Instructions for updating:\n",
      "Use `tf.global_variables_initializer` instead.\n",
      "Epoch: 0005 cost= 5.862648735\n",
      "WARNING:tensorflow:From D:\\repos\\neural_nets\\mlp.py:48: initialize_all_variables (from tensorflow.python.ops.variables) is deprecated and will be removed after 2017-03-02.\n",
      "Instructions for updating:\n",
      "Use `tf.global_variables_initializer` instead.\n",
      "Epoch: 0005 cost= 14.264032373\n",
      "WARNING:tensorflow:From D:\\repos\\neural_nets\\mlp.py:48: initialize_all_variables (from tensorflow.python.ops.variables) is deprecated and will be removed after 2017-03-02.\n",
      "Instructions for updating:\n",
      "Use `tf.global_variables_initializer` instead.\n",
      "Epoch: 0005 cost= 20.350550043\n",
      "WARNING:tensorflow:From D:\\repos\\neural_nets\\mlp.py:48: initialize_all_variables (from tensorflow.python.ops.variables) is deprecated and will be removed after 2017-03-02.\n",
      "Instructions for updating:\n",
      "Use `tf.global_variables_initializer` instead.\n",
      "Epoch: 0005 cost= 20.455822250\n",
      "WARNING:tensorflow:From D:\\repos\\neural_nets\\mlp.py:48: initialize_all_variables (from tensorflow.python.ops.variables) is deprecated and will be removed after 2017-03-02.\n",
      "Instructions for updating:\n",
      "Use `tf.global_variables_initializer` instead.\n",
      "Epoch: 0005 cost= 20.025185258\n",
      "WARNING:tensorflow:From D:\\repos\\neural_nets\\mlp.py:48: initialize_all_variables (from tensorflow.python.ops.variables) is deprecated and will be removed after 2017-03-02.\n",
      "Instructions for updating:\n",
      "Use `tf.global_variables_initializer` instead.\n",
      "Epoch: 0005 cost= 22.869211706\n",
      "WARNING:tensorflow:From D:\\repos\\neural_nets\\mlp.py:48: initialize_all_variables (from tensorflow.python.ops.variables) is deprecated and will be removed after 2017-03-02.\n",
      "Instructions for updating:\n",
      "Use `tf.global_variables_initializer` instead.\n",
      "Epoch: 0005 cost= 24.787821325\n",
      "WARNING:tensorflow:From D:\\repos\\neural_nets\\mlp.py:48: initialize_all_variables (from tensorflow.python.ops.variables) is deprecated and will be removed after 2017-03-02.\n",
      "Instructions for updating:\n",
      "Use `tf.global_variables_initializer` instead.\n",
      "Epoch: 0005 cost= 23.626103046\n",
      "WARNING:tensorflow:From D:\\repos\\neural_nets\\mlp.py:48: initialize_all_variables (from tensorflow.python.ops.variables) is deprecated and will be removed after 2017-03-02.\n",
      "Instructions for updating:\n",
      "Use `tf.global_variables_initializer` instead.\n",
      "Epoch: 0005 cost= 25.252868829\n",
      "WARNING:tensorflow:From D:\\repos\\neural_nets\\mlp.py:48: initialize_all_variables (from tensorflow.python.ops.variables) is deprecated and will be removed after 2017-03-02.\n",
      "Instructions for updating:\n",
      "Use `tf.global_variables_initializer` instead.\n",
      "Epoch: 0005 cost= 13.284953812\n",
      "WARNING:tensorflow:From D:\\repos\\neural_nets\\mlp.py:48: initialize_all_variables (from tensorflow.python.ops.variables) is deprecated and will be removed after 2017-03-02.\n",
      "Instructions for updating:\n",
      "Use `tf.global_variables_initializer` instead.\n",
      "Epoch: 0005 cost= 15.090042936\n",
      "WARNING:tensorflow:From D:\\repos\\neural_nets\\mlp.py:48: initialize_all_variables (from tensorflow.python.ops.variables) is deprecated and will be removed after 2017-03-02.\n",
      "Instructions for updating:\n",
      "Use `tf.global_variables_initializer` instead.\n",
      "Epoch: 0005 cost= 19.751798825\n",
      "WARNING:tensorflow:From D:\\repos\\neural_nets\\mlp.py:48: initialize_all_variables (from tensorflow.python.ops.variables) is deprecated and will be removed after 2017-03-02.\n",
      "Instructions for updating:\n",
      "Use `tf.global_variables_initializer` instead.\n",
      "Epoch: 0005 cost= 17.244152535\n",
      "WARNING:tensorflow:From D:\\repos\\neural_nets\\mlp.py:48: initialize_all_variables (from tensorflow.python.ops.variables) is deprecated and will be removed after 2017-03-02.\n",
      "Instructions for updating:\n",
      "Use `tf.global_variables_initializer` instead.\n",
      "Epoch: 0005 cost= 18.607072222\n",
      "WARNING:tensorflow:From D:\\repos\\neural_nets\\mlp.py:48: initialize_all_variables (from tensorflow.python.ops.variables) is deprecated and will be removed after 2017-03-02.\n",
      "Instructions for updating:\n",
      "Use `tf.global_variables_initializer` instead.\n",
      "Epoch: 0005 cost= 12.573156875\n",
      "WARNING:tensorflow:From D:\\repos\\neural_nets\\mlp.py:48: initialize_all_variables (from tensorflow.python.ops.variables) is deprecated and will be removed after 2017-03-02.\n",
      "Instructions for updating:\n",
      "Use `tf.global_variables_initializer` instead.\n",
      "Epoch: 0005 cost= 17.560136893\n",
      "WARNING:tensorflow:From D:\\repos\\neural_nets\\mlp.py:48: initialize_all_variables (from tensorflow.python.ops.variables) is deprecated and will be removed after 2017-03-02.\n",
      "Instructions for updating:\n",
      "Use `tf.global_variables_initializer` instead.\n",
      "Epoch: 0005 cost= 11.340799370\n",
      "WARNING:tensorflow:From D:\\repos\\neural_nets\\mlp.py:48: initialize_all_variables (from tensorflow.python.ops.variables) is deprecated and will be removed after 2017-03-02.\n",
      "Instructions for updating:\n",
      "Use `tf.global_variables_initializer` instead.\n",
      "Epoch: 0005 cost= 2.247652299\n",
      "WARNING:tensorflow:From D:\\repos\\neural_nets\\mlp.py:48: initialize_all_variables (from tensorflow.python.ops.variables) is deprecated and will be removed after 2017-03-02.\n",
      "Instructions for updating:\n",
      "Use `tf.global_variables_initializer` instead.\n",
      "Epoch: 0005 cost= 2.226944672\n",
      "WARNING:tensorflow:From D:\\repos\\neural_nets\\mlp.py:48: initialize_all_variables (from tensorflow.python.ops.variables) is deprecated and will be removed after 2017-03-02.\n",
      "Instructions for updating:\n",
      "Use `tf.global_variables_initializer` instead.\n",
      "Epoch: 0005 cost= 15.050467961\n",
      "WARNING:tensorflow:From D:\\repos\\neural_nets\\mlp.py:48: initialize_all_variables (from tensorflow.python.ops.variables) is deprecated and will be removed after 2017-03-02.\n",
      "Instructions for updating:\n",
      "Use `tf.global_variables_initializer` instead.\n",
      "Epoch: 0005 cost= 18.805232409\n",
      "WARNING:tensorflow:From D:\\repos\\neural_nets\\mlp.py:48: initialize_all_variables (from tensorflow.python.ops.variables) is deprecated and will be removed after 2017-03-02.\n",
      "Instructions for updating:\n",
      "Use `tf.global_variables_initializer` instead.\n",
      "Epoch: 0005 cost= 27.870337595\n",
      "WARNING:tensorflow:From D:\\repos\\neural_nets\\mlp.py:48: initialize_all_variables (from tensorflow.python.ops.variables) is deprecated and will be removed after 2017-03-02.\n",
      "Instructions for updating:\n",
      "Use `tf.global_variables_initializer` instead.\n",
      "Epoch: 0005 cost= 30.192174196\n",
      "WARNING:tensorflow:From D:\\repos\\neural_nets\\mlp.py:48: initialize_all_variables (from tensorflow.python.ops.variables) is deprecated and will be removed after 2017-03-02.\n",
      "Instructions for updating:\n",
      "Use `tf.global_variables_initializer` instead.\n",
      "Epoch: 0005 cost= 30.757930742\n",
      "WARNING:tensorflow:From D:\\repos\\neural_nets\\mlp.py:48: initialize_all_variables (from tensorflow.python.ops.variables) is deprecated and will be removed after 2017-03-02.\n",
      "Instructions for updating:\n",
      "Use `tf.global_variables_initializer` instead.\n",
      "Epoch: 0005 cost= 28.773844060\n",
      "WARNING:tensorflow:From D:\\repos\\neural_nets\\mlp.py:48: initialize_all_variables (from tensorflow.python.ops.variables) is deprecated and will be removed after 2017-03-02.\n",
      "Instructions for updating:\n",
      "Use `tf.global_variables_initializer` instead.\n",
      "Epoch: 0005 cost= 24.330144164\n",
      "WARNING:tensorflow:From D:\\repos\\neural_nets\\mlp.py:48: initialize_all_variables (from tensorflow.python.ops.variables) is deprecated and will be removed after 2017-03-02.\n",
      "Instructions for updating:\n",
      "Use `tf.global_variables_initializer` instead.\n",
      "Epoch: 0005 cost= 24.112865298\n",
      "WARNING:tensorflow:From D:\\repos\\neural_nets\\mlp.py:48: initialize_all_variables (from tensorflow.python.ops.variables) is deprecated and will be removed after 2017-03-02.\n",
      "Instructions for updating:\n",
      "Use `tf.global_variables_initializer` instead.\n",
      "Epoch: 0005 cost= 27.295240207\n",
      "WARNING:tensorflow:From D:\\repos\\neural_nets\\mlp.py:48: initialize_all_variables (from tensorflow.python.ops.variables) is deprecated and will be removed after 2017-03-02.\n",
      "Instructions for updating:\n",
      "Use `tf.global_variables_initializer` instead.\n"
     ]
    },
    {
     "name": "stdout",
     "output_type": "stream",
     "text": [
      "Epoch: 0005 cost= 26.411779220\n",
      "WARNING:tensorflow:From D:\\repos\\neural_nets\\mlp.py:48: initialize_all_variables (from tensorflow.python.ops.variables) is deprecated and will be removed after 2017-03-02.\n",
      "Instructions for updating:\n",
      "Use `tf.global_variables_initializer` instead.\n",
      "Epoch: 0005 cost= 26.855535596\n",
      "WARNING:tensorflow:From D:\\repos\\neural_nets\\mlp.py:48: initialize_all_variables (from tensorflow.python.ops.variables) is deprecated and will be removed after 2017-03-02.\n",
      "Instructions for updating:\n",
      "Use `tf.global_variables_initializer` instead.\n",
      "Epoch: 0005 cost= 25.719862145\n",
      "WARNING:tensorflow:From D:\\repos\\neural_nets\\mlp.py:48: initialize_all_variables (from tensorflow.python.ops.variables) is deprecated and will be removed after 2017-03-02.\n",
      "Instructions for updating:\n",
      "Use `tf.global_variables_initializer` instead.\n",
      "Epoch: 0005 cost= 20.768705700\n",
      "WARNING:tensorflow:From D:\\repos\\neural_nets\\mlp.py:48: initialize_all_variables (from tensorflow.python.ops.variables) is deprecated and will be removed after 2017-03-02.\n",
      "Instructions for updating:\n",
      "Use `tf.global_variables_initializer` instead.\n",
      "Epoch: 0005 cost= 15.128533645\n",
      "WARNING:tensorflow:From D:\\repos\\neural_nets\\mlp.py:48: initialize_all_variables (from tensorflow.python.ops.variables) is deprecated and will be removed after 2017-03-02.\n",
      "Instructions for updating:\n",
      "Use `tf.global_variables_initializer` instead.\n",
      "Epoch: 0005 cost= 27.494437860\n",
      "WARNING:tensorflow:From D:\\repos\\neural_nets\\mlp.py:48: initialize_all_variables (from tensorflow.python.ops.variables) is deprecated and will be removed after 2017-03-02.\n",
      "Instructions for updating:\n",
      "Use `tf.global_variables_initializer` instead.\n",
      "Epoch: 0005 cost= 23.061680247\n",
      "WARNING:tensorflow:From D:\\repos\\neural_nets\\mlp.py:48: initialize_all_variables (from tensorflow.python.ops.variables) is deprecated and will be removed after 2017-03-02.\n",
      "Instructions for updating:\n",
      "Use `tf.global_variables_initializer` instead.\n",
      "Epoch: 0005 cost= 23.118626447\n",
      "WARNING:tensorflow:From D:\\repos\\neural_nets\\mlp.py:48: initialize_all_variables (from tensorflow.python.ops.variables) is deprecated and will be removed after 2017-03-02.\n",
      "Instructions for updating:\n",
      "Use `tf.global_variables_initializer` instead.\n",
      "Epoch: 0005 cost= 21.119028875\n",
      "WARNING:tensorflow:From D:\\repos\\neural_nets\\mlp.py:48: initialize_all_variables (from tensorflow.python.ops.variables) is deprecated and will be removed after 2017-03-02.\n",
      "Instructions for updating:\n",
      "Use `tf.global_variables_initializer` instead.\n",
      "Epoch: 0005 cost= 21.236694515\n",
      "WARNING:tensorflow:From D:\\repos\\neural_nets\\mlp.py:48: initialize_all_variables (from tensorflow.python.ops.variables) is deprecated and will be removed after 2017-03-02.\n",
      "Instructions for updating:\n",
      "Use `tf.global_variables_initializer` instead.\n",
      "Epoch: 0005 cost= 20.697564239\n",
      "WARNING:tensorflow:From D:\\repos\\neural_nets\\mlp.py:48: initialize_all_variables (from tensorflow.python.ops.variables) is deprecated and will be removed after 2017-03-02.\n",
      "Instructions for updating:\n",
      "Use `tf.global_variables_initializer` instead.\n",
      "Epoch: 0005 cost= 12.267398042\n",
      "WARNING:tensorflow:From D:\\repos\\neural_nets\\mlp.py:48: initialize_all_variables (from tensorflow.python.ops.variables) is deprecated and will be removed after 2017-03-02.\n",
      "Instructions for updating:\n",
      "Use `tf.global_variables_initializer` instead.\n",
      "Epoch: 0005 cost= 2.155164267\n",
      "WARNING:tensorflow:From D:\\repos\\neural_nets\\mlp.py:48: initialize_all_variables (from tensorflow.python.ops.variables) is deprecated and will be removed after 2017-03-02.\n",
      "Instructions for updating:\n",
      "Use `tf.global_variables_initializer` instead.\n",
      "Epoch: 0005 cost= 2.349930997\n",
      "WARNING:tensorflow:From D:\\repos\\neural_nets\\mlp.py:48: initialize_all_variables (from tensorflow.python.ops.variables) is deprecated and will be removed after 2017-03-02.\n",
      "Instructions for updating:\n",
      "Use `tf.global_variables_initializer` instead.\n",
      "Epoch: 0005 cost= 2.035143038\n",
      "WARNING:tensorflow:From D:\\repos\\neural_nets\\mlp.py:48: initialize_all_variables (from tensorflow.python.ops.variables) is deprecated and will be removed after 2017-03-02.\n",
      "Instructions for updating:\n",
      "Use `tf.global_variables_initializer` instead.\n",
      "Epoch: 0005 cost= 17.887650433\n",
      "WARNING:tensorflow:From D:\\repos\\neural_nets\\mlp.py:48: initialize_all_variables (from tensorflow.python.ops.variables) is deprecated and will be removed after 2017-03-02.\n",
      "Instructions for updating:\n",
      "Use `tf.global_variables_initializer` instead.\n",
      "Epoch: 0005 cost= 17.209342941\n",
      "WARNING:tensorflow:From D:\\repos\\neural_nets\\mlp.py:48: initialize_all_variables (from tensorflow.python.ops.variables) is deprecated and will be removed after 2017-03-02.\n",
      "Instructions for updating:\n",
      "Use `tf.global_variables_initializer` instead.\n",
      "Epoch: 0005 cost= 10.663185239\n",
      "WARNING:tensorflow:From D:\\repos\\neural_nets\\mlp.py:48: initialize_all_variables (from tensorflow.python.ops.variables) is deprecated and will be removed after 2017-03-02.\n",
      "Instructions for updating:\n",
      "Use `tf.global_variables_initializer` instead.\n",
      "Epoch: 0005 cost= 15.704630995\n",
      "WARNING:tensorflow:From D:\\repos\\neural_nets\\mlp.py:48: initialize_all_variables (from tensorflow.python.ops.variables) is deprecated and will be removed after 2017-03-02.\n",
      "Instructions for updating:\n",
      "Use `tf.global_variables_initializer` instead.\n",
      "Epoch: 0005 cost= 2.297118001\n",
      "WARNING:tensorflow:From D:\\repos\\neural_nets\\mlp.py:48: initialize_all_variables (from tensorflow.python.ops.variables) is deprecated and will be removed after 2017-03-02.\n",
      "Instructions for updating:\n",
      "Use `tf.global_variables_initializer` instead.\n",
      "Epoch: 0005 cost= 2.031785028\n"
     ]
    }
   ],
   "source": [
    "results=ga.evolve(Original)"
   ]
  },
  {
   "cell_type": "code",
   "execution_count": 20,
   "metadata": {},
   "outputs": [
    {
     "data": {
      "text/plain": [
       "[[[{'attributes': {'hidden_lvls': {'scale': 0,\n",
       "      'value': [{'scale': 32.0, 'value': 512}, {'scale': 32.0, 'value': 32}]},\n",
       "     'n_classes': 10,\n",
       "     'n_inputs': 784}},\n",
       "   0.9194001],\n",
       "  [{'attributes': {'hidden_lvls': {'scale': 0,\n",
       "      'value': [{'scale': 32.0, 'value': 480}, {'scale': 32.0, 'value': 64}]},\n",
       "     'n_classes': 10,\n",
       "     'n_inputs': 784}},\n",
       "   0.86720008],\n",
       "  [{'attributes': {'hidden_lvls': {'scale': 0,\n",
       "      'value': [{'scale': 32.0, 'value': 352}, {'scale': 32.0, 'value': 32}]},\n",
       "     'n_classes': 10,\n",
       "     'n_inputs': 784}},\n",
       "   0.33779994],\n",
       "  [{'attributes': {'hidden_lvls': {'scale': 0,\n",
       "      'value': [{'scale': 32.0, 'value': 352}, {'scale': 32.0, 'value': 32}]},\n",
       "     'n_classes': 10,\n",
       "     'n_inputs': 784}},\n",
       "   0.31069997],\n",
       "  [{'attributes': {'hidden_lvls': {'scale': 0,\n",
       "      'value': [{'scale': 32.0, 'value': 448}, {'scale': 32.0, 'value': 32}]},\n",
       "     'n_classes': 10,\n",
       "     'n_inputs': 784}},\n",
       "   0.1776]]]"
      ]
     },
     "execution_count": 20,
     "metadata": {},
     "output_type": "execute_result"
    }
   ],
   "source": [
    "results[8]"
   ]
  }
 ],
 "metadata": {
  "kernelspec": {
   "display_name": "Python 3",
   "language": "python",
   "name": "python3"
  },
  "language_info": {
   "codemirror_mode": {
    "name": "ipython",
    "version": 3
   },
   "file_extension": ".py",
   "mimetype": "text/x-python",
   "name": "python",
   "nbconvert_exporter": "python",
   "pygments_lexer": "ipython3",
   "version": "3.6.2"
  }
 },
 "nbformat": 4,
 "nbformat_minor": 2
}
